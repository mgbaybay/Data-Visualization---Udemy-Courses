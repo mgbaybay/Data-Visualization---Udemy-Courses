{
 "cells": [
  {
   "cell_type": "markdown",
   "id": "7c6ce15a",
   "metadata": {},
   "source": [
    "<h1><center>Udemy Courses Analysis<center>"
   ]
  },
  {
   "cell_type": "markdown",
   "id": "f49fec84",
   "metadata": {},
   "source": [
    "<center>Analysis of data gathered from Udemy Courses. Link is available at https://www.kaggle.com/andrewmvd/udemy-courses?select=udemy_courses.csv<center>"
   ]
  },
  {
   "cell_type": "markdown",
   "id": "220294e3",
   "metadata": {},
   "source": [
    "### I. Importing modules and libraries\n",
    "\n",
    "For this step, I imported numpy, and matplotlib modules. After setting up the modules, the csv file was also imported. "
   ]
  },
  {
   "cell_type": "code",
   "execution_count": 3,
   "id": "0c76dcd8",
   "metadata": {},
   "outputs": [],
   "source": [
    "import numpy  as np\n",
    "import pandas as pd "
   ]
  },
  {
   "cell_type": "code",
   "execution_count": 2,
   "id": "67e68045",
   "metadata": {},
   "outputs": [
    {
     "ename": "UnicodeDecodeError",
     "evalue": "'charmap' codec can't decode byte 0x8f in position 5783: character maps to <undefined>",
     "output_type": "error",
     "traceback": [
      "\u001b[1;31m---------------------------------------------------------------------------\u001b[0m",
      "\u001b[1;31mUnicodeDecodeError\u001b[0m                        Traceback (most recent call last)",
      "\u001b[1;32m<ipython-input-2-90d391319021>\u001b[0m in \u001b[0;36m<module>\u001b[1;34m\u001b[0m\n\u001b[0;32m      6\u001b[0m \u001b[1;31m#Opens the data file as df\u001b[0m\u001b[1;33m\u001b[0m\u001b[1;33m\u001b[0m\u001b[1;33m\u001b[0m\u001b[0m\n\u001b[0;32m      7\u001b[0m \u001b[1;32mwith\u001b[0m \u001b[0mopen\u001b[0m\u001b[1;33m(\u001b[0m\u001b[1;34m\"udemy_courses.csv\"\u001b[0m\u001b[1;33m,\u001b[0m \u001b[1;34m\"r\"\u001b[0m\u001b[1;33m)\u001b[0m \u001b[1;32mas\u001b[0m \u001b[0mf\u001b[0m\u001b[1;33m:\u001b[0m\u001b[1;33m\u001b[0m\u001b[1;33m\u001b[0m\u001b[0m\n\u001b[1;32m----> 8\u001b[1;33m     \u001b[0mcourses_df\u001b[0m \u001b[1;33m=\u001b[0m \u001b[0mlist\u001b[0m\u001b[1;33m(\u001b[0m\u001b[0mcsv\u001b[0m\u001b[1;33m.\u001b[0m\u001b[0mreader\u001b[0m\u001b[1;33m(\u001b[0m\u001b[0mf\u001b[0m\u001b[1;33m,\u001b[0m \u001b[0mdelimiter\u001b[0m\u001b[1;33m=\u001b[0m\u001b[1;34m\";\"\u001b[0m\u001b[1;33m)\u001b[0m\u001b[1;33m)\u001b[0m\u001b[1;33m\u001b[0m\u001b[1;33m\u001b[0m\u001b[0m\n\u001b[0m\u001b[0;32m      9\u001b[0m \u001b[1;31m#     courses_df = pd.read_csv('udemy_courses.csv')\u001b[0m\u001b[1;33m\u001b[0m\u001b[1;33m\u001b[0m\u001b[1;33m\u001b[0m\u001b[0m\n",
      "\u001b[1;32m~\\anaconda3\\lib\\encodings\\cp1252.py\u001b[0m in \u001b[0;36mdecode\u001b[1;34m(self, input, final)\u001b[0m\n\u001b[0;32m     21\u001b[0m \u001b[1;32mclass\u001b[0m \u001b[0mIncrementalDecoder\u001b[0m\u001b[1;33m(\u001b[0m\u001b[0mcodecs\u001b[0m\u001b[1;33m.\u001b[0m\u001b[0mIncrementalDecoder\u001b[0m\u001b[1;33m)\u001b[0m\u001b[1;33m:\u001b[0m\u001b[1;33m\u001b[0m\u001b[1;33m\u001b[0m\u001b[0m\n\u001b[0;32m     22\u001b[0m     \u001b[1;32mdef\u001b[0m \u001b[0mdecode\u001b[0m\u001b[1;33m(\u001b[0m\u001b[0mself\u001b[0m\u001b[1;33m,\u001b[0m \u001b[0minput\u001b[0m\u001b[1;33m,\u001b[0m \u001b[0mfinal\u001b[0m\u001b[1;33m=\u001b[0m\u001b[1;32mFalse\u001b[0m\u001b[1;33m)\u001b[0m\u001b[1;33m:\u001b[0m\u001b[1;33m\u001b[0m\u001b[1;33m\u001b[0m\u001b[0m\n\u001b[1;32m---> 23\u001b[1;33m         \u001b[1;32mreturn\u001b[0m \u001b[0mcodecs\u001b[0m\u001b[1;33m.\u001b[0m\u001b[0mcharmap_decode\u001b[0m\u001b[1;33m(\u001b[0m\u001b[0minput\u001b[0m\u001b[1;33m,\u001b[0m\u001b[0mself\u001b[0m\u001b[1;33m.\u001b[0m\u001b[0merrors\u001b[0m\u001b[1;33m,\u001b[0m\u001b[0mdecoding_table\u001b[0m\u001b[1;33m)\u001b[0m\u001b[1;33m[\u001b[0m\u001b[1;36m0\u001b[0m\u001b[1;33m]\u001b[0m\u001b[1;33m\u001b[0m\u001b[1;33m\u001b[0m\u001b[0m\n\u001b[0m\u001b[0;32m     24\u001b[0m \u001b[1;33m\u001b[0m\u001b[0m\n\u001b[0;32m     25\u001b[0m \u001b[1;32mclass\u001b[0m \u001b[0mStreamWriter\u001b[0m\u001b[1;33m(\u001b[0m\u001b[0mCodec\u001b[0m\u001b[1;33m,\u001b[0m\u001b[0mcodecs\u001b[0m\u001b[1;33m.\u001b[0m\u001b[0mStreamWriter\u001b[0m\u001b[1;33m)\u001b[0m\u001b[1;33m:\u001b[0m\u001b[1;33m\u001b[0m\u001b[1;33m\u001b[0m\u001b[0m\n",
      "\u001b[1;31mUnicodeDecodeError\u001b[0m: 'charmap' codec can't decode byte 0x8f in position 5783: character maps to <undefined>"
     ]
    }
   ],
   "source": [
    "import os\n",
    "import csv\n",
    "\n",
    "os.chdir(\"C:\\\\Users\\\\maegr\\Documents\\Maymay\\DataScience\\modules\")\n",
    "\n",
    "#Opens the data file as df\n",
    "with open(\"udemy_courses.csv\", \"r\") as courses_df:\n",
    "    courses_df = pd.read_csv('udemy_courses.csv')"
   ]
  },
  {
   "cell_type": "markdown",
   "id": "689b751e",
   "metadata": {},
   "source": [
    "### II. Describing the Courses\n",
    "\n",
    "Instead of getting the statistical values separately, the **describe** syntax was used so that it would be easier to analyze the data."
   ]
  },
  {
   "cell_type": "code",
   "execution_count": null,
   "id": "12be13d3",
   "metadata": {},
   "outputs": [],
   "source": [
    "courses_df.describe()"
   ]
  },
  {
   "cell_type": "markdown",
   "id": "b65d94c1",
   "metadata": {},
   "source": [
    "#### Conclusions: \n",
    "1. If someone is planning to take a Udemy course, it must be noted that the average price of Udemy Courses is **66.049 USD**. Some of the courses are entirely **free**, while others could go as high as **200 USD**\n",
    "2. The average number of subcsribers per course is **3197**\n",
    "3. Some courses could have as high as **27455** reviews while some courses don't have any review at all.\n",
    "3. In order to finish a course, one must spend an average of **4.09 hours**. "
   ]
  },
  {
   "cell_type": "markdown",
   "id": "f3821f66",
   "metadata": {},
   "source": [
    "### III. Amount of Courses by Subject\n",
    "\n",
    "The pie chart below describes the distribution of the amount of courses per subject"
   ]
  },
  {
   "cell_type": "code",
   "execution_count": null,
   "id": "abe69868",
   "metadata": {
    "scrolled": true
   },
   "outputs": [],
   "source": [
    "courses_df['subject'].value_counts() / courses_df['subject'].value_counts().sum()"
   ]
  },
  {
   "cell_type": "markdown",
   "id": "fe939d93",
   "metadata": {},
   "source": [
    "#### Conclusions: \n",
    "1. About 32.6% of lessons from Udemy is about Web Development, which makes it the most popular subject in the site. \n",
    "2. The Web Development course is followed closely by Business Finance with around 32.5%. \n",
    "3. Musical Instruments is at third, while Graphic Design is placed at last."
   ]
  },
  {
   "cell_type": "markdown",
   "id": "41e9a641",
   "metadata": {},
   "source": [
    "### IV. Standard Deviation and Mean\n",
    "Part III already discussed the following details but this is another way of getting the standard deviation"
   ]
  },
  {
   "cell_type": "code",
   "execution_count": null,
   "id": "d6c9d3d2",
   "metadata": {},
   "outputs": [],
   "source": [
    "print(\"Mean Values\")\n",
    "print( \"Price: \" + str(courses_df[\"price\"].mean()) )\n",
    "print( \"Number of subscribers: \"+ str(courses_df[\"num_subscribers\"].mean()) )\n",
    "print( \"Number of reviews: \"+ str(courses_df[\"num_reviews\"].mean()) )\n",
    "print( \"Number of lectures: \"+ str(courses_df[\"num_lectures\"].mean()) )\n",
    "print( \"Content Duration: \"+ str(courses_df[\"content_duration\"].mean()) )\n",
    "\n",
    "print(\"\\nStandard Deviation\")\n",
    "print( \"Price: \" + str(courses_df[\"price\"].std()) )\n",
    "print( \"Number of subscribers: \"+ str(courses_df[\"num_subscribers\"].std()) )\n",
    "print( \"Number of reviews: \"+ str(courses_df[\"num_reviews\"].std()) )\n",
    "print( \"Number of lectures: \"+ str(courses_df[\"num_lectures\"].std()) )\n",
    "print( \"Content Duration: \"+ str(courses_df[\"content_duration\"].std()) )"
   ]
  },
  {
   "cell_type": "markdown",
   "id": "32fa649e",
   "metadata": {},
   "source": [
    "#### Conclusions:\n",
    "1. Based from the table above, we can infer that the there the standard deviation between the price and the number of lectures is small hence, they are more closely distributed around the mean value gathered earlier."
   ]
  },
  {
   "cell_type": "markdown",
   "id": "3ecc6a4f",
   "metadata": {},
   "source": [
    "### V. Maximum and Minimum Values\n",
    "Below are the maximum and minimum values of the given data"
   ]
  },
  {
   "cell_type": "code",
   "execution_count": null,
   "id": "2c16c2eb",
   "metadata": {},
   "outputs": [],
   "source": [
    "print( \"Maximum Course Price: \" + str(courses_df[\"price\"].max()) )\n",
    "print( \"Minimum Course Price: \" + str(courses_df[\"price\"].min()) )\n",
    "\n",
    "print( \"\\nMaximum Number of subscribers: \"+ str(courses_df[\"num_subscribers\"].max()) )\n",
    "print( \"Minimum Number of subscribers: \"+ str(courses_df[\"num_subscribers\"].min()) )\n",
    "\n",
    "print( \"\\nMaximum Number of reviews: \"+ str(courses_df[\"num_reviews\"].max()) )\n",
    "print( \"Minimum Number of reviews: \"+ str(courses_df[\"num_reviews\"].min()) )\n",
    "\n",
    "print( \"\\nMaximum Number of lectures: \"+ str(courses_df[\"num_lectures\"].max()) )\n",
    "print( \"Minimum Number of lectures: \"+ str(courses_df[\"num_lectures\"].min()) )\n",
    "\n",
    "print( \"\\nMaximum Content Duration: \"+ str(courses_df[\"content_duration\"].max()) )\n",
    "print( \"Minimum Content Duration: \"+ str(courses_df[\"content_duration\"].min()) )"
   ]
  },
  {
   "cell_type": "markdown",
   "id": "7abcd9b1",
   "metadata": {},
   "source": [
    "Conclusions:\n",
    "1. The most expensive course costs 200USD while there are courses that are free.\n",
    "2. The most subscribed course has 268923 subscribers\n",
    "3. The most reviewed course has 27445 reviews\n",
    "4. The most number of lectures in a course is 779. Surprisingly, there are courses that do not have any lectures at all.\n",
    "5. The maximum content duration of a course is 78.5 hours, while again, there are courses that have 0 content duration."
   ]
  },
  {
   "cell_type": "markdown",
   "id": "c70f5d8a",
   "metadata": {},
   "source": [
    "### VI. Most Popular Paid Courses\n",
    "The table below shows the most popular paid courses in Udemy based on the number of subscribers"
   ]
  },
  {
   "cell_type": "code",
   "execution_count": null,
   "id": "1ccd593b",
   "metadata": {},
   "outputs": [],
   "source": [
    "paid_courses_df = courses_df.query(\"price != 0\")\n",
    "top25_paid = paid_courses_df.sort_values(\"num_subscribers\", ascending=False)[0:25].sort_values(\"num_subscribers\", ascending=False)\n",
    "\n",
    "top25_paid"
   ]
  },
  {
   "cell_type": "markdown",
   "id": "c80d0162",
   "metadata": {},
   "source": [
    "#### Conclusions:\n",
    "1. The most popular paid course is \"The Web Developer Bootcamp\". \n",
    "2. 21 out of 25 most popular paid courses is about Web Development. From this and the conclusion made earlier, it is possible that many udemy users are interested in learning about Web Development.\n",
    "3. Those most popular paid course in musical instruments is about learning to play piano and guitar."
   ]
  },
  {
   "cell_type": "markdown",
   "id": "ef8189eb",
   "metadata": {},
   "source": [
    "### VII Most Popular Free Courses"
   ]
  },
  {
   "cell_type": "code",
   "execution_count": null,
   "id": "ba67bb07",
   "metadata": {},
   "outputs": [],
   "source": [
    "free_courses_df = courses_df.query(\"price == 0\")\n",
    "top25_free = free_courses_df.sort_values(\"num_subscribers\", ascending=False)[0:25].sort_values(\"num_subscribers\", ascending=False)\n",
    "\n",
    "top25_free"
   ]
  },
  {
   "cell_type": "markdown",
   "id": "1bf9cb2c",
   "metadata": {},
   "source": [
    "#### Conclusions:\n",
    "1. The most popular free course is \"Learn HTML5 Programming from scratch\". \n",
    "2. 21 out of 25 most popular free courses is about Web Development. \n",
    "3. Those most popular free course in musical instruments is about learning to play electric guitar, titled \"Free Beginner Electric Guitar Lessons\""
   ]
  },
  {
   "cell_type": "markdown",
   "id": "bf4e0925",
   "metadata": {},
   "source": [
    "### VIII. Highest reviewed course"
   ]
  },
  {
   "cell_type": "code",
   "execution_count": null,
   "id": "bdc27335",
   "metadata": {},
   "outputs": [],
   "source": [
    "num_reviews_df = courses_df.query(\"num_reviews != 0\")\n",
    "top25_reviewed = num_reviews_df.sort_values(\"num_reviews\", ascending=False)[0:25].sort_values(\"num_reviews\", ascending=True).reset_index(drop=True).reset_index()\n",
    "top25_reviewed.max()"
   ]
  },
  {
   "cell_type": "markdown",
   "id": "a9bafddf",
   "metadata": {},
   "source": [
    "#### Conclusions:\n",
    "1. The highest reviewed course is about Web Designing under the subject Web Development. \n",
    "2. At the time of the csv file upload, the title of the course is \"Web Design for Web Developers\" but currently, it is titled as \"Ultimate Web Designer & Web Developer Course for 2021\" \n",
    "3. It takes 43 hours to finish the course. \n",
    "4. It costs around 200 USD before but currently, it is priced at 89.99 USD.\n",
    "5. The course is good for Intermediate Level learners\n",
    "\n",
    "To check the course, visit the link https://www.udemy.com/web-developer-course/"
   ]
  },
  {
   "cell_type": "markdown",
   "id": "44c7b27d",
   "metadata": {},
   "source": [
    "## General Conclusions\n",
    "\n",
    "IF someone is interested in learning about Web Development, Business Finance, Musical Instruments, and Graphics Design, it is recommended that they visit Udemy since there's a variety of courses they could try from the website. There are also free courses available. Meanwhile, if they don't mind paying for the contents, they should know that the average price per course is 66 USD and could possibly go as high as 200 USD."
   ]
  }
 ],
 "metadata": {
  "kernelspec": {
   "display_name": "Python 3",
   "language": "python",
   "name": "python3"
  },
  "language_info": {
   "codemirror_mode": {
    "name": "ipython",
    "version": 3
   },
   "file_extension": ".py",
   "mimetype": "text/x-python",
   "name": "python",
   "nbconvert_exporter": "python",
   "pygments_lexer": "ipython3",
   "version": "3.8.8"
  }
 },
 "nbformat": 4,
 "nbformat_minor": 5
}
